{
 "cells": [
  {
   "cell_type": "code",
   "execution_count": 2,
   "metadata": {},
   "outputs": [],
   "source": [
    "import  numpy as np\n",
    "import matplotlib.pyplot as plt\n",
    "from keras.datasets import mnist\n",
    "from keras.utils import to_categorical,plot_model\n",
    "from keras.models import Sequential\n",
    "from keras.layers import Dense,Softmax,Activation\n",
    "from keras.optimizers import Adam\n",
    "from keras.metrics import categorical_accuracy\n",
    "import os\n",
    "os.environ[\"PATH\"] += os.pathsep + 'D:/Program Files (x86)/Graphviz2.38/bin/'"
   ]
  },
  {
   "cell_type": "code",
   "execution_count": 3,
   "metadata": {},
   "outputs": [
    {
     "name": "stdout",
     "output_type": "stream",
     "text": [
      "(60000, 28, 28) (60000,)\n",
      "5\n",
      "(60000, 784) (60000,)\n"
     ]
    },
    {
     "data": {
      "text/plain": [
       "array([0., 0., 0., 0., 0., 1., 0., 0., 0., 0.], dtype=float32)"
      ]
     },
     "execution_count": 3,
     "metadata": {},
     "output_type": "execute_result"
    },
    {
     "data": {
      "image/png": "[encoded data removed]",
      "text/plain": [
       "<Figure size 432x288 with 1 Axes>"
      ]
     },
     "metadata": {
      "needs_background": "light"
     },
     "output_type": "display_data"
    }
   ],
   "source": [
    "#preprocessing data\n",
    "(x_train, y_train), (x_test, y_test)=mnist.load_data()\n",
    "print(x_train.shape,y_train.shape)  #(60000, 28, 28) (60000,)\n",
    "image_size=x_train.shape[1]\n",
    "#plot image\n",
    "image_0=x_train[0]\n",
    "plt.imshow(image_0)\n",
    "print(y_train[0])\n",
    "\n",
    "x_train=x_train.reshape((-1,image_size*image_size))  \n",
    "x_test=x_test.reshape((-1,image_size*image_size))\n",
    "print(x_train.shape , y_train.shape)  #(60000, 784) (60000,)\n",
    "x_train=x_train.astype(dtype='float32')\n",
    "x_test=x_test.astype(dtype='float32')\n",
    "#print(y_train[:5])  #[5 0 4 1 9]\n",
    "\n",
    "y_train=to_categorical(y_train)  #(60000,10)\n",
    "y_test=to_categorical(y_test)\n",
    "y_train[0]"
   ]
  },
  {
   "cell_type": "code",
   "execution_count": 9,
   "metadata": {},
   "outputs": [],
   "source": [
    "#hyper parameters\n",
    "n_output=10      #len(np.unique(y_train))  :2 \n",
    "n_input=image_size*image_size\n",
    "hidden_layers=[256,256]   # we need 2 hidden layers ,each 256 units\n",
    "activation_function='relu'"
   ]
  },
  {
   "cell_type": "code",
   "execution_count": 10,
   "metadata": {},
   "outputs": [
    {
     "name": "stdout",
     "output_type": "stream",
     "text": [
      "_________________________________________________________________\n",
      "Layer (type)                 Output Shape              Param #   \n",
      "=================================================================\n",
      "hidden_layer1 (Dense)        (None, 256)               200960    \n",
      "_________________________________________________________________\n",
      "relu_1 (Activation)          (None, 256)               0         \n",
      "_________________________________________________________________\n",
      "hidden_layer2 (Dense)        (None, 256)               65792     \n",
      "_________________________________________________________________\n",
      "relu_2 (Activation)          (None, 256)               0         \n",
      "_________________________________________________________________\n",
      "output_layer (Dense)         (None, 10)                2570      \n",
      "_________________________________________________________________\n",
      "softmax (Activation)         (None, 10)                0         \n",
      "=================================================================\n",
      "Total params: 269,322\n",
      "Trainable params: 269,322\n",
      "Non-trainable params: 0\n",
      "_________________________________________________________________\n"
     ]
    }
   ],
   "source": [
    "model=Sequential()\n",
    "#add hidden layer 1\n",
    "model.add(Dense(units=hidden_layers[0],input_dim=n_input,name='hidden_layer1'))\n",
    "model.add(Activation(activation_function , name='relu_1'))\n",
    "#add hidden layer 2\n",
    "model.add(Dense(units=hidden_layers[1],name='hidden_layer2'))\n",
    "model.add(Activation(activation_function , name='relu_2'))\n",
    "\n",
    "#add output layer\n",
    "model.add(Dense(units=n_output,name='output_layer'))\n",
    "model.add(Activation('softmax' , name='softmax'))\n",
    "\n",
    "model.summary()\n",
    "plot_model(model=model,to_file='MNISt_mlp.png',show_shapes=True)"
   ]
  },
  {
   "cell_type": "code",
   "execution_count": 12,
   "metadata": {},
   "outputs": [],
   "source": [
    "#model.compile(optimizer='adam',loss='categorical_crossentropy')\n",
    "model.compile(optimizer=Adam(lr=0.01),loss='categorical_crossentropy',metrics=['acc'])\n"
   ]
  },
  {
   "cell_type": "code",
   "execution_count": 13,
   "metadata": {},
   "outputs": [
    {
     "name": "stderr",
     "output_type": "stream",
     "text": [
      "W0825 23:45:06.304034 19052 deprecation.py:323] From d:\\program files\\python37\\lib\\site-packages\\tensorflow\\python\\ops\\math_grad.py:1250: add_dispatch_support.<locals>.wrapper (from tensorflow.python.ops.array_ops) is deprecated and will be removed in a future version.\n",
      "Instructions for updating:\n",
      "Use tf.where in 2.0, which has the same broadcast rule as np.where\n",
      "W0825 23:45:06.362912 19052 deprecation_wrapper.py:119] From d:\\program files\\python37\\lib\\site-packages\\keras\\backend\\tensorflow_backend.py:986: The name tf.assign_add is deprecated. Please use tf.compat.v1.assign_add instead.\n",
      "\n"
     ]
    },
    {
     "name": "stdout",
     "output_type": "stream",
     "text": [
      "Epoch 1/20\n",
      "60000/60000 [==============================] - 8s 132us/step - loss: 14.5270 - acc: 0.0987\n",
      "Epoch 2/20\n",
      "60000/60000 [==============================] - 6s 99us/step - loss: 14.5270 - acc: 0.0987\n",
      "Epoch 3/20\n",
      "60000/60000 [==============================] - 6s 96us/step - loss: 14.5270 - acc: 0.0987\n",
      "Epoch 4/20\n",
      "60000/60000 [==============================] - 6s 100us/step - loss: 14.5270 - acc: 0.0987\n",
      "Epoch 5/20\n",
      "60000/60000 [==============================] - 6s 99us/step - loss: 14.5270 - acc: 0.0987\n",
      "Epoch 6/20\n",
      "60000/60000 [==============================] - 6s 99us/step - loss: 14.5270 - acc: 0.0987\n",
      "Epoch 7/20\n",
      "60000/60000 [==============================] - 6s 98us/step - loss: 14.5270 - acc: 0.0987\n",
      "Epoch 8/20\n",
      "60000/60000 [==============================] - 6s 99us/step - loss: 14.5270 - acc: 0.0987\n",
      "Epoch 9/20\n",
      "60000/60000 [==============================] - 6s 99us/step - loss: 14.5270 - acc: 0.0987\n",
      "Epoch 10/20\n",
      "60000/60000 [==============================] - 6s 99us/step - loss: 14.5270 - acc: 0.0987\n",
      "Epoch 11/20\n",
      "60000/60000 [==============================] - 6s 98us/step - loss: 14.5270 - acc: 0.0987\n",
      "Epoch 12/20\n",
      "60000/60000 [==============================] - 6s 108us/step - loss: 14.5270 - acc: 0.0987\n",
      "Epoch 13/20\n",
      "60000/60000 [==============================] - 7s 118us/step - loss: 14.5270 - acc: 0.0987\n",
      "Epoch 14/20\n",
      "60000/60000 [==============================] - 7s 110us/step - loss: 14.5270 - acc: 0.0987\n",
      "Epoch 15/20\n",
      "60000/60000 [==============================] - 7s 112us/step - loss: 14.5270 - acc: 0.0987\n",
      "Epoch 16/20\n",
      "60000/60000 [==============================] - 7s 111us/step - loss: 14.5270 - acc: 0.0987\n",
      "Epoch 17/20\n",
      "60000/60000 [==============================] - 6s 96us/step - loss: 14.5270 - acc: 0.0987\n",
      "Epoch 18/20\n",
      "60000/60000 [==============================] - 5s 90us/step - loss: 14.5270 - acc: 0.0987\n",
      "Epoch 19/20\n",
      "60000/60000 [==============================] - 6s 94us/step - loss: 14.5270 - acc: 0.0987\n",
      "Epoch 20/20\n",
      "60000/60000 [==============================] - 6s 100us/step - loss: 14.5270 - acc: 0.0987\n"
     ]
    }
   ],
   "source": [
    "#train the model\n",
    "model_history=model.fit(x=x_train,y=y_train,epochs=20,batch_size=32)"
   ]
  },
  {
   "cell_type": "code",
   "execution_count": 14,
   "metadata": {},
   "outputs": [
    {
     "data": {
      "text/plain": [
       "[<matplotlib.lines.Line2D at 0x289de431048>]"
      ]
     },
     "execution_count": 14,
     "metadata": {},
     "output_type": "execute_result"
    },
    {
     "data": {
      "image/png": "[encoded data removed]",
      "text/plain": [
       "<Figure size 432x288 with 1 Axes>"
      ]
     },
     "metadata": {
      "needs_background": "light"
     },
     "output_type": "display_data"
    },
    {
     "data": {
      "image/png": "[encoded data removed]",
      "text/plain": [
       "<Figure size 432x288 with 1 Axes>"
      ]
     },
     "metadata": {
      "needs_background": "light"
     },
     "output_type": "display_data"
    }
   ],
   "source": [
    "#plot loss and accuracy\n",
    "loss_values=model_history.history['loss']\n",
    "plt.figure()\n",
    "plt.title('loss_values')\n",
    "plt.plot(loss_values)\n",
    "\n",
    "\n",
    "accuracy_values=model_history.history['acc']\n",
    "plt.figure()\n",
    "plt.title('accuracy_values')\n",
    "plt.plot(accuracy_values)"
   ]
  },
  {
   "cell_type": "code",
   "execution_count": 15,
   "metadata": {},
   "outputs": [
    {
     "data": {
      "text/plain": [
       "numpy.ndarray"
      ]
     },
     "execution_count": 15,
     "metadata": {},
     "output_type": "execute_result"
    }
   ],
   "source": [
    "type(y_train)"
   ]
  },
  {
   "cell_type": "code",
   "execution_count": null,
   "metadata": {},
   "outputs": [],
   "source": []
  }
 ],
 "metadata": {
  "kernelspec": {
   "display_name": "Python 3",
   "language": "python",
   "name": "python3"
  },
  "language_info": {
   "codemirror_mode": {
    "name": "ipython",
    "version": 3
   },
   "file_extension": ".py",
   "mimetype": "text/x-python",
   "name": "python",
   "nbconvert_exporter": "python",
   "pygments_lexer": "ipython3",
   "version": "3.7.5"
  }
 },
 "nbformat": 4,
 "nbformat_minor": 2
}
