{
 "cells": [
  {
   "cell_type": "code",
   "execution_count": 16,
   "metadata": {},
   "outputs": [],
   "source": [
    "import numpy as np\n",
    "from IPython.core.interactiveshell import InteractiveShell\n",
    "InteractiveShell.ast_node_interactivity = \"all\"\n",
    "import matplotlib.pyplot as plt"
   ]
  },
  {
   "cell_type": "code",
   "execution_count": 17,
   "metadata": {},
   "outputs": [
    {
     "data": {
      "text/plain": [
       "<Figure size 432x288 with 0 Axes>"
      ]
     },
     "execution_count": 17,
     "metadata": {},
     "output_type": "execute_result"
    },
    {
     "data": {
      "text/plain": [
       "<matplotlib.collections.PathCollection at 0x13b26905e88>"
      ]
     },
     "execution_count": 17,
     "metadata": {},
     "output_type": "execute_result"
    },
    {
     "data": {
      "text/plain": [
       "Text(0.5, 1.0, 'DataSet')"
      ]
     },
     "execution_count": 17,
     "metadata": {},
     "output_type": "execute_result"
    },
    {
     "data": {
      "text/plain": [
       "Text(0.5, 0, 'X_0')"
      ]
     },
     "execution_count": 17,
     "metadata": {},
     "output_type": "execute_result"
    },
    {
     "data": {
      "text/plain": [
       "Text(0, 0.5, 'X_1')"
      ]
     },
     "execution_count": 17,
     "metadata": {},
     "output_type": "execute_result"
    },
    {
     "data": {
      "text/plain": [
       "Text(0.5, 0.5, 'y=1')"
      ]
     },
     "execution_count": 17,
     "metadata": {},
     "output_type": "execute_result"
    },
    {
     "data": {
      "text/plain": [
       "Text(-0.5, -0.5, 'y=0')"
      ]
     },
     "execution_count": 17,
     "metadata": {},
     "output_type": "execute_result"
    },
    {
     "data": {
      "image/png": "[encoded data removed]",
      "text/plain": [
       "<Figure size 432x288 with 1 Axes>"
      ]
     },
     "metadata": {
      "needs_background": "light"
     },
     "output_type": "display_data"
    }
   ],
   "source": [
    "#generate dataset\n",
    "class_1=np.random.multivariate_normal(mean=[1,1],cov=[[0.01,0],[0,0.01]],size=100)\n",
    "class_0=np.random.multivariate_normal(mean=[-1,-1],cov=[[0.01,0],[0,0.01]],size=100)\n",
    "lable_1=np.ones((100))\n",
    "lable_0=np.zeros((100,))\n",
    "lable1=np.concatenate([lable_1,lable_0])\n",
    "lable=lable1.reshape(-1,1)\n",
    "dataset=np.vstack([class_1,class_0])\n",
    "\n",
    "plt.figure(0)\n",
    "plt.scatter(dataset[:,0],dataset[:,1],c=lable1)\n",
    "plt.title('DataSet')\n",
    "plt.xlabel('X_0')\n",
    "plt.ylabel('X_1')\n",
    "plt.text(0.5,0.5,'y=1')\n",
    "plt.text(-0.5,-0.5,'y=0')"
   ]
  },
  {
   "cell_type": "code",
   "execution_count": 19,
   "metadata": {},
   "outputs": [],
   "source": [
    "#initialization \n",
    "m=dataset.shape[0]  #sample numbers\n",
    "n=dataset.shape[1]  #features numbers\n",
    "alpha=0.001    #learning rate\n",
    "#2 features , 2 w\n",
    "epoch=1000\n",
    "j=0.0  #cost funstion\n",
    "x=dataset\n",
    "y=lable\n",
    "\n",
    "b =np.float64(1)   #bias\n",
    "dw1=dw2=db=np.float64(0)\n",
    "w1=np.random.normal(loc=0.0,scale=0.01,size=1)   #weight init  \n",
    "w2=np.random.normal(loc=0.0,scale=0.01,size=1)     \n",
    "cost=[]\n",
    "z_SigInput=[]\n"
   ]
  },
  {
   "cell_type": "code",
   "execution_count": 21,
   "metadata": {},
   "outputs": [
    {
     "name": "stdout",
     "output_type": "stream",
     "text": [
      "w1 = [0.40104515]  w2 = [0.43297497]  bias = [0.80119412]\n"
     ]
    }
   ],
   "source": [
    "#functions\n",
    "def  sigmoid_func(z):\n",
    "   a=1.0/(1.0+np.exp(-z))\n",
    "   return  a\n",
    "\n",
    "def cost_func(z,y):\n",
    " j2=-np.log((1-sigmoid_func(z)))*(1-y)\n",
    " j1=-np.log(sigmoid_func(z))*(y)\n",
    " j=(j1+j2)\n",
    " return  j\n",
    "\n",
    "#gradient descent alg\n",
    "for epochs in range(epoch):\n",
    "    j=dw1=dw2=db=0\n",
    "    for i in range(m):\n",
    "        z=w1*x[i,0]+w2*x[i,1]+b\n",
    "        z_SigInput.append(z)\n",
    "        a=sigmoid_func(z)\n",
    "        j+=cost_func(z,y[i,])\n",
    "        dw1+=(a-y[i,])*x[i,0]\n",
    "        dw2+=(a-y[i,])*x[i,1]\n",
    "        db+=(a-y[i,])\n",
    "    \n",
    "    dw1=dw1*(1.0/m) \n",
    "    dw2=dw2*1.0/m \n",
    "    db=db*1.0/m \n",
    "    j=j/m\n",
    "    cost.append(j)\n",
    "    w1=w1-alpha*dw1\n",
    "    w2-=alpha*dw2\n",
    "    b-=alpha*db\n",
    " \n",
    "print(\"w1 =\", w1,\" w2 =\", w2,\" bias =\", b ,sep=' ')"
   ]
  },
  {
   "cell_type": "code",
   "execution_count": 22,
   "metadata": {},
   "outputs": [
    {
     "data": {
      "text/plain": [
       "<Figure size 432x288 with 0 Axes>"
      ]
     },
     "execution_count": 22,
     "metadata": {},
     "output_type": "execute_result"
    },
    {
     "data": {
      "text/plain": [
       "<matplotlib.collections.PathCollection at 0x13b269a9bc8>"
      ]
     },
     "execution_count": 22,
     "metadata": {},
     "output_type": "execute_result"
    },
    {
     "data": {
      "text/plain": [
       "Text(0.5, 1.0, 'DataSet')"
      ]
     },
     "execution_count": 22,
     "metadata": {},
     "output_type": "execute_result"
    },
    {
     "data": {
      "text/plain": [
       "Text(0.5, 0, 'X_0')"
      ]
     },
     "execution_count": 22,
     "metadata": {},
     "output_type": "execute_result"
    },
    {
     "data": {
      "text/plain": [
       "Text(0, 0.5, 'X_1')"
      ]
     },
     "execution_count": 22,
     "metadata": {},
     "output_type": "execute_result"
    },
    {
     "data": {
      "text/plain": [
       "Text(0.5, 0.5, 'y=1')"
      ]
     },
     "execution_count": 22,
     "metadata": {},
     "output_type": "execute_result"
    },
    {
     "data": {
      "text/plain": [
       "Text(-0.5, -0.5, 'y=0')"
      ]
     },
     "execution_count": 22,
     "metadata": {},
     "output_type": "execute_result"
    },
    {
     "data": {
      "text/plain": [
       "200000"
      ]
     },
     "execution_count": 22,
     "metadata": {},
     "output_type": "execute_result"
    },
    {
     "data": {
      "text/plain": [
       "[<matplotlib.lines.Line2D at 0x13b269f4588>]"
      ]
     },
     "execution_count": 22,
     "metadata": {},
     "output_type": "execute_result"
    },
    {
     "data": {
      "image/png": "[encoded data removed]",
      "text/plain": [
       "<Figure size 432x288 with 1 Axes>"
      ]
     },
     "metadata": {
      "needs_background": "light"
     },
     "output_type": "display_data"
    },
    {
     "data": {
      "text/plain": [
       "<Figure size 432x288 with 0 Axes>"
      ]
     },
     "execution_count": 22,
     "metadata": {},
     "output_type": "execute_result"
    },
    {
     "data": {
      "text/plain": [
       "[<matplotlib.lines.Line2D at 0x13b27a1dcc8>]"
      ]
     },
     "execution_count": 22,
     "metadata": {},
     "output_type": "execute_result"
    },
    {
     "data": {
      "text/plain": [
       "Text(0.5, 1.0, 'Cost Function')"
      ]
     },
     "execution_count": 22,
     "metadata": {},
     "output_type": "execute_result"
    },
    {
     "data": {
      "image/png": "[encoded data removed]",
      "text/plain": [
       "<Figure size 432x288 with 1 Axes>"
      ]
     },
     "metadata": {
      "needs_background": "light"
     },
     "output_type": "display_data"
    }
   ],
   "source": [
    "plt.figure(0)\n",
    "plt.scatter(dataset[:,0],dataset[:,1],c=lable1)\n",
    "plt.title('DataSet')\n",
    "plt.xlabel('X_0')\n",
    "plt.ylabel('X_1')\n",
    "plt.text(0.5,0.5,'y=1')\n",
    "plt.text(-0.5,-0.5,'y=0')\n",
    "\n",
    "#plot sigmoid with respect to z  \n",
    "z_SigInput=np.array(z_SigInput)\n",
    "len(z_SigInput)\n",
    "z_SigInput=z_SigInput[-200:len(z_SigInput)]\n",
    "plt.plot(z_SigInput,sigmoid_func(z_SigInput))\n",
    "plt.show()\n",
    "\n",
    "#plot loss function\n",
    "plt.figure(1)\n",
    "plt.plot(cost)\n",
    "plt.title('Cost Function')\n",
    "plt.show()"
   ]
  },
  {
   "cell_type": "code",
   "execution_count": null,
   "metadata": {},
   "outputs": [],
   "source": []
  }
 ],
 "metadata": {
  "kernelspec": {
   "display_name": "Python 3",
   "language": "python",
   "name": "python3"
  },
  "language_info": {
   "codemirror_mode": {
    "name": "ipython",
    "version": 3
   },
   "file_extension": ".py",
   "mimetype": "text/x-python",
   "name": "python",
   "nbconvert_exporter": "python",
   "pygments_lexer": "ipython3",
   "version": "3.7.5"
  }
 },
 "nbformat": 4,
 "nbformat_minor": 2
}
