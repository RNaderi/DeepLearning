{
 "cells": [
  {
   "cell_type": "markdown",
   "metadata": {},
   "source": [
    "1. Create three 2D tensors(A,P,L) using normal distribution in tensorflow\n",
    "2. Implement the following operation:\n",
    "\n",
    "    $(A'PA)^{-1}A'PL$\n",
    "\n",
    "    A is Placeholder(matrix),\n",
    "\n",
    "    P is Variable(Diagonal Square matrix) ,\n",
    "\n",
    "    L is Constant(1D vector)\n",
    "3. print the result"
   ]
  },
  {
   "cell_type": "code",
   "execution_count": 2,
   "metadata": {},
   "outputs": [
    {
     "name": "stdout",
     "output_type": "stream",
     "text": [
      "result 1 with function rand() : \n",
      " [[97.73883   ]\n",
      " [-0.32735193]]  \n",
      " result 2 with function normal dist :\n",
      " [[0.8773188]\n",
      " [0.6398335]]\n"
     ]
    }
   ],
   "source": [
    "import numpy as np\n",
    "import tensorflow as tf\n",
    "A=tf.placeholder(shape=(2,2),name='A',dtype=tf.float32)\n",
    "L=tf.constant(value=[1,2],dtype=tf.float32,shape=(2,1),name='L')\n",
    "P=tf.Variable(tf.eye(2),dtype=tf.float32,name='P')\n",
    "out=tf.matmul(tf.matmul(tf.matmul(tf.linalg.inv(tf.matmul(tf.matmul(A,P,transpose_a=True),A)),A,transpose_b=True),P),L)\n",
    "\n",
    "sess1=tf.Session()\n",
    "# Define a batch of two scalar valued Normals.\n",
    "# The first has mean 1 and standard deviation 11, the second 2 and 22.\n",
    "dist = tf.distributions.Normal(loc=[1, 2.], scale=[11, 22.])\n",
    "#get 2 samples, returning a 2 x 2 tensor.\n",
    "input_A=sess1.run(dist.sample([2]))\n",
    "np.random.rand(2,2)\n",
    "\n",
    "init=tf.global_variables_initializer()\n",
    "with tf.Session() as sess:\n",
    "    sess.run(init)\n",
    "    result_1_rand=sess.run(out,{A:np.random.rand(2,2)})\n",
    "    result_2_normal=sess.run(out,{A:input_A})\n",
    "    \n",
    "print('result 1 with function rand() : \\n',result_1_rand ,' \\n result 2 with function normal dist :\\n' , result_2_normal)"
   ]
  },
  {
   "cell_type": "code",
   "execution_count": null,
   "metadata": {},
   "outputs": [],
   "source": []
  },
  {
   "cell_type": "code",
   "execution_count": null,
   "metadata": {},
   "outputs": [],
   "source": []
  },
  {
   "cell_type": "markdown",
   "metadata": {},
   "source": [
    "*:)*"
   ]
  }
 ],
 "metadata": {
  "kernelspec": {
   "display_name": "Python 3",
   "language": "python",
   "name": "python3"
  },
  "language_info": {
   "codemirror_mode": {
    "name": "ipython",
    "version": 3
   },
   "file_extension": ".py",
   "mimetype": "text/x-python",
   "name": "python",
   "nbconvert_exporter": "python",
   "pygments_lexer": "ipython3",
   "version": "3.7.5"
  }
 },
 "nbformat": 4,
 "nbformat_minor": 2
}
